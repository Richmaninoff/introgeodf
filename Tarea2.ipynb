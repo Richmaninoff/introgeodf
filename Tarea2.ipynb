{
 "cells": [
  {
   "cell_type": "code",
   "execution_count": null,
   "id": "b3b5e87a",
   "metadata": {},
   "outputs": [],
   "source": []
  },
  {
   "cell_type": "code",
   "execution_count": 1,
   "id": "ad36c9f1",
   "metadata": {},
   "outputs": [
    {
     "name": "stdout",
     "output_type": "stream",
     "text": [
      "Collecting geopandasNote: you may need to restart the kernel to use updated packages.\n",
      "\n",
      "  Downloading geopandas-0.14.4-py3-none-any.whl (1.1 MB)\n",
      "                                              0.0/1.1 MB ? eta -:--:--\n",
      "     -                                        0.0/1.1 MB ? eta -:--:--\n",
      "     -                                        0.0/1.1 MB ? eta -:--:--\n",
      "     ----                                     0.1/1.1 MB 901.1 kB/s eta 0:00:02\n",
      "     -------                                  0.2/1.1 MB 1.2 MB/s eta 0:00:01\n",
      "     ----------                               0.3/1.1 MB 1.4 MB/s eta 0:00:01\n",
      "     -----------------                        0.5/1.1 MB 1.9 MB/s eta 0:00:01\n",
      "     -------------------------                0.7/1.1 MB 2.3 MB/s eta 0:00:01\n",
      "     -----------------------------            0.8/1.1 MB 2.4 MB/s eta 0:00:01\n",
      "     --------------------------------         0.9/1.1 MB 2.6 MB/s eta 0:00:01\n",
      "     -----------------------------------      1.0/1.1 MB 2.3 MB/s eta 0:00:01\n",
      "     ---------------------------------------- 1.1/1.1 MB 2.3 MB/s eta 0:00:00\n",
      "Collecting fiona>=1.8.21 (from geopandas)\n",
      "  Downloading fiona-1.9.6-cp311-cp311-win_amd64.whl (22.9 MB)\n",
      "                                              0.0/22.9 MB ? eta -:--:--\n",
      "                                              0.3/22.9 MB 8.3 MB/s eta 0:00:03\n",
      "                                              0.4/22.9 MB 4.5 MB/s eta 0:00:05\n",
      "                                              0.5/22.9 MB 4.2 MB/s eta 0:00:06\n",
      "     -                                        0.7/22.9 MB 3.6 MB/s eta 0:00:07\n",
      "     -                                        1.0/22.9 MB 4.3 MB/s eta 0:00:06\n",
      "     -                                        1.1/22.9 MB 4.7 MB/s eta 0:00:05\n",
      "     -                                        1.1/22.9 MB 4.7 MB/s eta 0:00:05\n",
      "     --                                       1.3/22.9 MB 3.7 MB/s eta 0:00:06\n",
      "     --                                       1.4/22.9 MB 3.3 MB/s eta 0:00:07\n",
      "     --                                       1.5/22.9 MB 3.3 MB/s eta 0:00:07\n",
      "     --                                       1.6/22.9 MB 3.1 MB/s eta 0:00:07\n",
      "     ---                                      1.8/22.9 MB 3.3 MB/s eta 0:00:07\n",
      "     ---                                      1.8/22.9 MB 3.3 MB/s eta 0:00:07\n",
      "     ---                                      2.0/22.9 MB 3.0 MB/s eta 0:00:07\n",
      "     ---                                      2.3/22.9 MB 3.2 MB/s eta 0:00:07\n",
      "     ----                                     2.4/22.9 MB 3.2 MB/s eta 0:00:07\n",
      "     ----                                     2.5/22.9 MB 3.2 MB/s eta 0:00:07\n",
      "     ----                                     2.7/22.9 MB 3.2 MB/s eta 0:00:07\n",
      "     ----                                     2.8/22.9 MB 3.2 MB/s eta 0:00:07\n",
      "     -----                                    2.9/22.9 MB 3.2 MB/s eta 0:00:07\n",
      "     -----                                    2.9/22.9 MB 3.0 MB/s eta 0:00:07\n",
      "     -----                                    3.0/22.9 MB 3.1 MB/s eta 0:00:07\n",
      "     -----                                    3.0/22.9 MB 3.1 MB/s eta 0:00:07\n",
      "     -----                                    3.1/22.9 MB 2.9 MB/s eta 0:00:07\n",
      "     -----                                    3.3/22.9 MB 2.9 MB/s eta 0:00:07\n",
      "     -----                                    3.4/22.9 MB 2.9 MB/s eta 0:00:07\n",
      "     ------                                   3.5/22.9 MB 2.9 MB/s eta 0:00:07\n",
      "     ------                                   3.5/22.9 MB 2.9 MB/s eta 0:00:07\n",
      "     ------                                   3.7/22.9 MB 2.8 MB/s eta 0:00:07\n",
      "     ------                                   3.7/22.9 MB 2.7 MB/s eta 0:00:08\n",
      "     ------                                   3.8/22.9 MB 2.7 MB/s eta 0:00:08\n",
      "     ------                                   4.0/22.9 MB 2.7 MB/s eta 0:00:07\n",
      "     -------                                  4.2/22.9 MB 2.7 MB/s eta 0:00:07\n",
      "     -------                                  4.2/22.9 MB 2.7 MB/s eta 0:00:07\n",
      "     -------                                  4.4/22.9 MB 2.7 MB/s eta 0:00:07\n",
      "     --------                                 4.6/22.9 MB 2.8 MB/s eta 0:00:07\n",
      "     --------                                 4.6/22.9 MB 2.8 MB/s eta 0:00:07\n",
      "     --------                                 4.8/22.9 MB 2.7 MB/s eta 0:00:07\n",
      "     --------                                 4.9/22.9 MB 2.7 MB/s eta 0:00:07\n",
      "     --------                                 5.0/22.9 MB 2.7 MB/s eta 0:00:07\n",
      "     ---------                                5.2/22.9 MB 2.8 MB/s eta 0:00:07\n",
      "     ---------                                5.4/22.9 MB 2.8 MB/s eta 0:00:07\n",
      "     ---------                                5.4/22.9 MB 2.8 MB/s eta 0:00:07\n",
      "     ---------                                5.5/22.9 MB 2.7 MB/s eta 0:00:07\n",
      "     ---------                                5.6/22.9 MB 2.7 MB/s eta 0:00:07\n",
      "     ---------                                5.7/22.9 MB 2.7 MB/s eta 0:00:07\n",
      "     ----------                               5.8/22.9 MB 2.7 MB/s eta 0:00:07\n",
      "     ----------                               5.9/22.9 MB 2.7 MB/s eta 0:00:07\n",
      "     ----------                               6.0/22.9 MB 2.7 MB/s eta 0:00:07\n",
      "     ----------                               6.1/22.9 MB 2.6 MB/s eta 0:00:07\n",
      "     ----------                               6.1/22.9 MB 2.6 MB/s eta 0:00:07\n",
      "     ----------                               6.2/22.9 MB 2.6 MB/s eta 0:00:07\n",
      "     ----------                               6.3/22.9 MB 2.6 MB/s eta 0:00:07\n",
      "     -----------                              6.3/22.9 MB 2.6 MB/s eta 0:00:07\n",
      "     -----------                              6.5/22.9 MB 2.6 MB/s eta 0:00:07\n",
      "     -----------                              6.5/22.9 MB 2.6 MB/s eta 0:00:07\n",
      "     -----------                              6.6/22.9 MB 2.5 MB/s eta 0:00:07\n",
      "     -----------                              6.7/22.9 MB 2.5 MB/s eta 0:00:07\n",
      "     -----------                              6.8/22.9 MB 2.5 MB/s eta 0:00:07\n",
      "     -----------                              6.8/22.9 MB 2.5 MB/s eta 0:00:07\n",
      "     ------------                             7.0/22.9 MB 2.5 MB/s eta 0:00:07\n",
      "     ------------                             7.1/22.9 MB 2.5 MB/s eta 0:00:07\n",
      "     ------------                             7.2/22.9 MB 2.5 MB/s eta 0:00:07\n",
      "     ------------                             7.4/22.9 MB 2.5 MB/s eta 0:00:07\n",
      "     ------------                             7.4/22.9 MB 2.5 MB/s eta 0:00:07\n",
      "     ------------                             7.4/22.9 MB 2.5 MB/s eta 0:00:07\n",
      "     ------------                             7.4/22.9 MB 2.5 MB/s eta 0:00:07\n",
      "     -------------                            7.6/22.9 MB 2.5 MB/s eta 0:00:07\n",
      "     -------------                            7.8/22.9 MB 2.5 MB/s eta 0:00:07\n",
      "     --------------                           8.3/22.9 MB 2.6 MB/s eta 0:00:06\n",
      "     --------------                           8.5/22.9 MB 2.6 MB/s eta 0:00:06\n",
      "     --------------                           8.5/22.9 MB 2.6 MB/s eta 0:00:06\n",
      "     --------------                           8.5/22.9 MB 2.6 MB/s eta 0:00:06\n",
      "     ---------------                          8.6/22.9 MB 2.6 MB/s eta 0:00:06\n",
      "     ---------------                          8.9/22.9 MB 2.6 MB/s eta 0:00:06\n",
      "     ---------------                          9.0/22.9 MB 2.6 MB/s eta 0:00:06\n",
      "     ---------------                          9.2/22.9 MB 2.6 MB/s eta 0:00:06\n",
      "     ----------------                         9.3/22.9 MB 2.6 MB/s eta 0:00:06\n",
      "     ----------------                         9.4/22.9 MB 2.6 MB/s eta 0:00:06\n",
      "     ----------------                         9.6/22.9 MB 2.6 MB/s eta 0:00:06\n",
      "     -----------------                        9.8/22.9 MB 2.6 MB/s eta 0:00:05\n",
      "     -----------------                        10.0/22.9 MB 2.7 MB/s eta 0:00:05\n",
      "     -----------------                        10.1/22.9 MB 2.7 MB/s eta 0:00:05\n",
      "     ------------------                       10.3/22.9 MB 2.7 MB/s eta 0:00:05\n",
      "     ------------------                       10.5/22.9 MB 2.7 MB/s eta 0:00:05\n",
      "     ------------------                       10.6/22.9 MB 2.7 MB/s eta 0:00:05\n",
      "     ------------------                       10.6/22.9 MB 2.7 MB/s eta 0:00:05\n",
      "     ------------------                       10.9/22.9 MB 2.7 MB/s eta 0:00:05\n",
      "     -------------------                      11.0/22.9 MB 2.7 MB/s eta 0:00:05\n",
      "     -------------------                      11.0/22.9 MB 2.7 MB/s eta 0:00:05\n",
      "     -------------------                      11.0/22.9 MB 2.6 MB/s eta 0:00:05\n",
      "     -------------------                      11.1/22.9 MB 2.6 MB/s eta 0:00:05\n",
      "     -------------------                      11.3/22.9 MB 2.6 MB/s eta 0:00:05\n",
      "     --------------------                     11.5/22.9 MB 2.6 MB/s eta 0:00:05\n",
      "     --------------------                     11.7/22.9 MB 2.6 MB/s eta 0:00:05\n",
      "     --------------------                     11.8/22.9 MB 2.7 MB/s eta 0:00:05\n",
      "     --------------------                     11.9/22.9 MB 2.6 MB/s eta 0:00:05\n",
      "     ---------------------                    12.2/22.9 MB 2.7 MB/s eta 0:00:04\n",
      "     ---------------------                    12.5/22.9 MB 2.7 MB/s eta 0:00:04\n",
      "     ----------------------                   12.8/22.9 MB 2.7 MB/s eta 0:00:04\n",
      "     ----------------------                   13.1/22.9 MB 2.8 MB/s eta 0:00:04\n",
      "     -----------------------                  13.4/22.9 MB 2.9 MB/s eta 0:00:04\n",
      "     -----------------------                  13.6/22.9 MB 2.9 MB/s eta 0:00:04\n",
      "     -----------------------                  13.7/22.9 MB 2.9 MB/s eta 0:00:04\n",
      "     ------------------------                 14.1/22.9 MB 3.1 MB/s eta 0:00:03\n",
      "     -------------------------                14.4/22.9 MB 3.1 MB/s eta 0:00:03\n",
      "     -------------------------                14.7/22.9 MB 3.2 MB/s eta 0:00:03\n",
      "     --------------------------               15.0/22.9 MB 3.2 MB/s eta 0:00:03\n",
      "     --------------------------               15.2/22.9 MB 3.3 MB/s eta 0:00:03\n",
      "     ---------------------------              15.5/22.9 MB 3.3 MB/s eta 0:00:03\n",
      "     ---------------------------              15.7/22.9 MB 3.4 MB/s eta 0:00:03\n",
      "     ---------------------------              16.0/22.9 MB 3.5 MB/s eta 0:00:02\n",
      "     ----------------------------             16.1/22.9 MB 3.5 MB/s eta 0:00:02\n",
      "     ----------------------------             16.3/22.9 MB 3.6 MB/s eta 0:00:02\n",
      "     ----------------------------             16.4/22.9 MB 3.6 MB/s eta 0:00:02\n",
      "     ----------------------------             16.6/22.9 MB 3.6 MB/s eta 0:00:02\n",
      "     -----------------------------            16.7/22.9 MB 3.7 MB/s eta 0:00:02\n",
      "     -----------------------------            16.8/22.9 MB 3.7 MB/s eta 0:00:02\n",
      "     -----------------------------            16.9/22.9 MB 3.7 MB/s eta 0:00:02\n",
      "     -----------------------------            17.0/22.9 MB 3.8 MB/s eta 0:00:02\n",
      "     ------------------------------           17.2/22.9 MB 3.9 MB/s eta 0:00:02\n",
      "     ------------------------------           17.4/22.9 MB 3.8 MB/s eta 0:00:02\n",
      "     ------------------------------           17.5/22.9 MB 3.9 MB/s eta 0:00:02\n",
      "     ------------------------------           17.5/22.9 MB 3.9 MB/s eta 0:00:02\n",
      "     ------------------------------           17.7/22.9 MB 4.0 MB/s eta 0:00:02\n",
      "     -------------------------------          17.8/22.9 MB 3.9 MB/s eta 0:00:02\n",
      "     -------------------------------          17.9/22.9 MB 3.9 MB/s eta 0:00:02\n",
      "     -------------------------------          18.0/22.9 MB 3.9 MB/s eta 0:00:02\n",
      "     -------------------------------          18.0/22.9 MB 3.9 MB/s eta 0:00:02\n",
      "     -------------------------------          18.1/22.9 MB 3.9 MB/s eta 0:00:02\n",
      "     -------------------------------          18.2/22.9 MB 3.8 MB/s eta 0:00:02\n",
      "     -------------------------------          18.2/22.9 MB 3.8 MB/s eta 0:00:02\n",
      "     -------------------------------          18.3/22.9 MB 3.7 MB/s eta 0:00:02\n",
      "     --------------------------------         18.4/22.9 MB 3.6 MB/s eta 0:00:02\n",
      "     --------------------------------         18.5/22.9 MB 3.6 MB/s eta 0:00:02\n",
      "     --------------------------------         18.7/22.9 MB 3.6 MB/s eta 0:00:02\n",
      "     --------------------------------         18.8/22.9 MB 3.7 MB/s eta 0:00:02\n",
      "     --------------------------------         18.9/22.9 MB 3.7 MB/s eta 0:00:02\n",
      "     ---------------------------------        19.0/22.9 MB 3.7 MB/s eta 0:00:02\n",
      "     ---------------------------------        19.1/22.9 MB 3.6 MB/s eta 0:00:02\n",
      "     ---------------------------------        19.3/22.9 MB 3.6 MB/s eta 0:00:02\n",
      "     ----------------------------------       19.6/22.9 MB 3.7 MB/s eta 0:00:01\n",
      "     ----------------------------------       19.6/22.9 MB 3.7 MB/s eta 0:00:01\n",
      "     ----------------------------------       19.9/22.9 MB 3.7 MB/s eta 0:00:01\n",
      "     -----------------------------------      20.2/22.9 MB 3.7 MB/s eta 0:00:01\n",
      "     -----------------------------------      20.6/22.9 MB 3.7 MB/s eta 0:00:01\n",
      "     ------------------------------------     20.9/22.9 MB 3.9 MB/s eta 0:00:01\n",
      "     -------------------------------------    21.3/22.9 MB 4.0 MB/s eta 0:00:01\n",
      "     -------------------------------------    21.5/22.9 MB 4.1 MB/s eta 0:00:01\n",
      "     --------------------------------------   21.8/22.9 MB 4.1 MB/s eta 0:00:01\n",
      "     --------------------------------------   22.1/22.9 MB 4.2 MB/s eta 0:00:01\n",
      "     --------------------------------------   22.3/22.9 MB 4.2 MB/s eta 0:00:01\n",
      "     ---------------------------------------  22.4/22.9 MB 4.2 MB/s eta 0:00:01\n",
      "     ---------------------------------------  22.6/22.9 MB 4.2 MB/s eta 0:00:01\n",
      "     ---------------------------------------  22.9/22.9 MB 4.2 MB/s eta 0:00:01\n",
      "     ---------------------------------------  22.9/22.9 MB 4.2 MB/s eta 0:00:01\n",
      "     ---------------------------------------  22.9/22.9 MB 4.2 MB/s eta 0:00:01\n",
      "     ---------------------------------------- 22.9/22.9 MB 3.9 MB/s eta 0:00:00\n",
      "Requirement already satisfied: numpy>=1.22 in c:\\users\\ricardo\\anaconda3\\lib\\site-packages (from geopandas) (1.24.3)\n",
      "Requirement already satisfied: packaging in c:\\users\\ricardo\\anaconda3\\lib\\site-packages (from geopandas) (23.0)\n",
      "Requirement already satisfied: pandas>=1.4.0 in c:\\users\\ricardo\\anaconda3\\lib\\site-packages (from geopandas) (2.1.4)\n",
      "Collecting pyproj>=3.3.0 (from geopandas)\n",
      "  Downloading pyproj-3.6.1-cp311-cp311-win_amd64.whl (6.1 MB)\n",
      "                                              0.0/6.1 MB ? eta -:--:--\n",
      "                                              0.1/6.1 MB 3.2 MB/s eta 0:00:02\n",
      "     -                                        0.3/6.1 MB 3.1 MB/s eta 0:00:02\n",
      "     --                                       0.5/6.1 MB 3.5 MB/s eta 0:00:02\n",
      "     ----                                     0.7/6.1 MB 4.2 MB/s eta 0:00:02\n",
      "     ----                                     0.7/6.1 MB 3.2 MB/s eta 0:00:02\n",
      "     ------                                   0.9/6.1 MB 3.4 MB/s eta 0:00:02\n",
      "     -------                                  1.2/6.1 MB 3.9 MB/s eta 0:00:02\n",
      "     ----------                               1.5/6.1 MB 4.4 MB/s eta 0:00:02\n",
      "     -----------                              1.8/6.1 MB 4.5 MB/s eta 0:00:01\n",
      "     ------------                             1.9/6.1 MB 4.6 MB/s eta 0:00:01\n",
      "     --------------                           2.2/6.1 MB 4.4 MB/s eta 0:00:01\n",
      "     ----------------                         2.4/6.1 MB 4.7 MB/s eta 0:00:01\n",
      "     -----------------                        2.7/6.1 MB 4.8 MB/s eta 0:00:01\n",
      "     -------------------                      3.0/6.1 MB 5.0 MB/s eta 0:00:01\n",
      "     ---------------------                    3.2/6.1 MB 4.8 MB/s eta 0:00:01\n",
      "     -----------------------                  3.6/6.1 MB 5.0 MB/s eta 0:00:01\n",
      "     ------------------------                 3.8/6.1 MB 4.9 MB/s eta 0:00:01\n",
      "     -------------------------                3.9/6.1 MB 4.9 MB/s eta 0:00:01\n",
      "     ---------------------------              4.2/6.1 MB 4.9 MB/s eta 0:00:01\n",
      "     ------------------------------           4.6/6.1 MB 5.1 MB/s eta 0:00:01\n",
      "     -------------------------------          4.9/6.1 MB 5.1 MB/s eta 0:00:01\n",
      "     ----------------------------------       5.2/6.1 MB 5.2 MB/s eta 0:00:01\n",
      "     -----------------------------------      5.4/6.1 MB 5.1 MB/s eta 0:00:01\n",
      "     -------------------------------------    5.7/6.1 MB 5.1 MB/s eta 0:00:01\n",
      "     ---------------------------------------  6.0/6.1 MB 5.2 MB/s eta 0:00:01\n",
      "     ---------------------------------------  6.1/6.1 MB 5.1 MB/s eta 0:00:01\n",
      "     ---------------------------------------- 6.1/6.1 MB 5.0 MB/s eta 0:00:00\n",
      "Collecting shapely>=1.8.0 (from geopandas)\n",
      "  Downloading shapely-2.0.4-cp311-cp311-win_amd64.whl (1.4 MB)\n",
      "                                              0.0/1.4 MB ? eta -:--:--\n",
      "     ------                                   0.2/1.4 MB 7.3 MB/s eta 0:00:01\n",
      "     ---------------                          0.6/1.4 MB 7.1 MB/s eta 0:00:01\n",
      "     --------------------------               1.0/1.4 MB 7.6 MB/s eta 0:00:01\n",
      "     ---------------------------------        1.2/1.4 MB 7.0 MB/s eta 0:00:01\n",
      "     ---------------------------------------  1.4/1.4 MB 6.9 MB/s eta 0:00:01\n",
      "     ---------------------------------------- 1.4/1.4 MB 5.7 MB/s eta 0:00:00\n",
      "Requirement already satisfied: attrs>=19.2.0 in c:\\users\\ricardo\\anaconda3\\lib\\site-packages (from fiona>=1.8.21->geopandas) (22.1.0)\n",
      "Requirement already satisfied: certifi in c:\\users\\ricardo\\anaconda3\\lib\\site-packages (from fiona>=1.8.21->geopandas) (2024.2.2)\n",
      "Requirement already satisfied: click~=8.0 in c:\\users\\ricardo\\anaconda3\\lib\\site-packages (from fiona>=1.8.21->geopandas) (8.0.4)\n",
      "Collecting click-plugins>=1.0 (from fiona>=1.8.21->geopandas)\n",
      "  Downloading click_plugins-1.1.1-py2.py3-none-any.whl (7.5 kB)\n",
      "Collecting cligj>=0.5 (from fiona>=1.8.21->geopandas)\n",
      "  Downloading cligj-0.7.2-py3-none-any.whl (7.1 kB)\n",
      "Requirement already satisfied: six in c:\\users\\ricardo\\anaconda3\\lib\\site-packages (from fiona>=1.8.21->geopandas) (1.16.0)\n",
      "Requirement already satisfied: python-dateutil>=2.8.2 in c:\\users\\ricardo\\anaconda3\\lib\\site-packages (from pandas>=1.4.0->geopandas) (2.8.2)\n",
      "Requirement already satisfied: pytz>=2020.1 in c:\\users\\ricardo\\anaconda3\\lib\\site-packages (from pandas>=1.4.0->geopandas) (2022.7)\n",
      "Requirement already satisfied: tzdata>=2022.1 in c:\\users\\ricardo\\anaconda3\\lib\\site-packages (from pandas>=1.4.0->geopandas) (2023.3)\n",
      "Requirement already satisfied: colorama in c:\\users\\ricardo\\anaconda3\\lib\\site-packages (from click~=8.0->fiona>=1.8.21->geopandas) (0.4.6)\n",
      "Installing collected packages: shapely, pyproj, cligj, click-plugins, fiona, geopandas\n",
      "Successfully installed click-plugins-1.1.1 cligj-0.7.2 fiona-1.9.6 geopandas-0.14.4 pyproj-3.6.1 shapely-2.0.4\n"
     ]
    }
   ],
   "source": [
    "pip install geopandas"
   ]
  },
  {
   "cell_type": "code",
   "execution_count": 3,
   "id": "92f03329",
   "metadata": {},
   "outputs": [],
   "source": [
    "import os, geopandas as gpd\n",
    "\n",
    "countries=gpd.read_file(os.path.join(\"maps\",\"World_Countries\",\"World_Countries.shp\"))"
   ]
  },
  {
   "cell_type": "code",
   "execution_count": 4,
   "id": "299d408b",
   "metadata": {},
   "outputs": [
    {
     "data": {
      "text/plain": [
       "geopandas.geodataframe.GeoDataFrame"
      ]
     },
     "execution_count": 4,
     "metadata": {},
     "output_type": "execute_result"
    }
   ],
   "source": [
    "type(countries)"
   ]
  },
  {
   "cell_type": "code",
   "execution_count": 5,
   "id": "2fe48c9c",
   "metadata": {},
   "outputs": [
    {
     "data": {
      "text/plain": [
       "(252, 2)"
      ]
     },
     "execution_count": 5,
     "metadata": {},
     "output_type": "execute_result"
    }
   ],
   "source": [
    "#Las dimensiones \n",
    "countries.shape"
   ]
  },
  {
   "cell_type": "markdown",
   "id": "530d5288",
   "metadata": {},
   "source": [
    "Part I\n",
    "\n",
    "Complete all the exercises in Python, but prepare the visual in R.\n",
    "Publish the Python code (as html or colab), and publish the visuals in R.\n",
    "\n",
    "PART I\n",
    "\n",
    "- Ejercicio 1: \n",
    "Commit and push the recently created geopackage.\n",
    "\n",
    "Get the link from Github to read the geopackage into R.\n",
    "\n",
    "Using the sf library in R, confirm the layers created (use st_layers), and open each map (read_sf). Draw the three layers (as we did in Python) using ggplot.\n",
    "\n",
    "- Ejercicio 2:\n",
    "\n",
    "Follow the same steps in this last section, but use Peru.\n",
    "Plot your three layers in R.\n",
    "- Ejercicio 3:\n",
    "- Ejercicio 4:\n"
   ]
  },
  {
   "cell_type": "markdown",
   "id": "484bdd30",
   "metadata": {},
   "source": [
    "### Ejercicio 1: \n",
    "\n",
    "Despues de haber creado el archivo GPKG y subirlo a Github se ha obtenido el enlace del archivo que nos ayudará a visualizar en mapa en R\n",
    "\n",
    "https://github.com/Richmaninoff/introgeodf/blob/main/maps/worldMap.gpkg\n",
    "\n",
    "A continuación vamos  R para generar los gráficos "
   ]
  },
  {
   "cell_type": "code",
   "execution_count": null,
   "id": "a6fdd63b",
   "metadata": {},
   "outputs": [],
   "source": [
    "#RPUB: "
   ]
  },
  {
   "cell_type": "markdown",
   "id": "ae41ebed",
   "metadata": {},
   "source": [
    "### Ejercicio 2:\n",
    "\n",
    "- Follow the same steps in this last section, but use Peru.\n",
    "- Plot your three layers in R."
   ]
  },
  {
   "cell_type": "code",
   "execution_count": 2,
   "id": "de13358f",
   "metadata": {},
   "outputs": [],
   "source": [
    "import os, geopandas as gpd\n",
    "\n",
    "countries=gpd.read_file(os.path.join(\"maps\",\"World_Countries\",\"World_Countries.shp\"))\n",
    "#countries es el DF, de hecho es el archivo que posees"
   ]
  },
  {
   "cell_type": "code",
   "execution_count": 6,
   "id": "30c3308a",
   "metadata": {},
   "outputs": [],
   "source": [
    "rivers=gpd.read_file(os.path.join(\"maps\",\"World_Hydrography\",\"World_Hydrography.shp\"))\n",
    "cities=gpd.read_file(os.path.join(\"maps\",\"World_Cities\",\"World_Cities.shp\"))"
   ]
  },
  {
   "cell_type": "code",
   "execution_count": 7,
   "id": "cbff564f",
   "metadata": {},
   "outputs": [],
   "source": [
    "peru=countries[countries.COUNTRY=='Peru']"
   ]
  },
  {
   "cell_type": "markdown",
   "id": "fd3b9a3a",
   "metadata": {},
   "source": [
    "But you can also subset by clipping, as sometimes other data frames may not have the same fields for filtering:\n",
    "\n"
   ]
  },
  {
   "cell_type": "code",
   "execution_count": 8,
   "id": "a052264d",
   "metadata": {},
   "outputs": [],
   "source": [
    "citiesperu_clipped = gpd.clip(gdf=cities,\n",
    "                          mask=peru)\n",
    "riversperu_clipped = gpd.clip(gdf=rivers,\n",
    "                               mask=peru)"
   ]
  },
  {
   "cell_type": "code",
   "execution_count": 14,
   "id": "506e7bc7",
   "metadata": {},
   "outputs": [
    {
     "data": {
      "text/plain": [
       "<Axes: >"
      ]
     },
     "execution_count": 14,
     "metadata": {},
     "output_type": "execute_result"
    },
    {
     "data": {
      "image/png": "[encoded data removed]",
      "text/plain": [
       "<Figure size 500x500 with 1 Axes>"
      ]
     },
     "metadata": {},
     "output_type": "display_data"
    }
   ],
   "source": [
    "#plot the clipped version:\n",
    "\n",
    "base = peru.plot(facecolor=\"#C8B17F\", edgecolor='black', linewidth=0.4,figsize=(5,5))\n",
    "citiesperu_clipped.plot(marker='+', color='red', markersize=15,\n",
    "                    ax=base)\n",
    "riversperu_clipped.plot(edgecolor='blue', linewidth=0.5,\n",
    "                    ax=base)"
   ]
  },
  {
   "cell_type": "code",
   "execution_count": 11,
   "id": "72d67010",
   "metadata": {},
   "outputs": [
    {
     "data": {
      "text/plain": [
       "172    Polygon\n",
       "dtype: object"
      ]
     },
     "execution_count": 11,
     "metadata": {},
     "output_type": "execute_result"
    }
   ],
   "source": [
    "peru.geom_type\n"
   ]
  },
  {
   "cell_type": "code",
   "execution_count": 12,
   "id": "99a21eaf",
   "metadata": {},
   "outputs": [
    {
     "data": {
      "text/plain": [
       "269    Point\n",
       "339    Point\n",
       "529    Point\n",
       "317    Point\n",
       "423    Point\n",
       "260    Point\n",
       "476    Point\n",
       "422    Point\n",
       "dtype: object"
      ]
     },
     "execution_count": 12,
     "metadata": {},
     "output_type": "execute_result"
    }
   ],
   "source": [
    "citiesperu_clipped.geom_type\n"
   ]
  },
  {
   "cell_type": "code",
   "execution_count": 13,
   "id": "f1c2b228",
   "metadata": {},
   "outputs": [
    {
     "data": {
      "text/plain": [
       "59         LineString\n",
       "1     MultiLineString\n",
       "60    MultiLineString\n",
       "85         LineString\n",
       "65         LineString\n",
       "dtype: object"
      ]
     },
     "execution_count": 13,
     "metadata": {},
     "output_type": "execute_result"
    }
   ],
   "source": [
    "riversperu_clipped.geom_type\n"
   ]
  },
  {
   "cell_type": "code",
   "execution_count": null,
   "id": "c84d14b6",
   "metadata": {},
   "outputs": [],
   "source": []
  },
  {
   "cell_type": "code",
   "execution_count": null,
   "id": "2423e3b7",
   "metadata": {},
   "outputs": [],
   "source": []
  },
  {
   "cell_type": "code",
   "execution_count": null,
   "id": "9d6562fe",
   "metadata": {},
   "outputs": [],
   "source": [
    "Part II\n",
    "Similar to Part I, do the CHALLENGE, using Python for coding, and R for plotting.\n",
    "Challenge: "
   ]
  },
  {
   "cell_type": "code",
   "execution_count": null,
   "id": "d44c9456",
   "metadata": {},
   "outputs": [],
   "source": []
  },
  {
   "cell_type": "code",
   "execution_count": null,
   "id": "906f18ae",
   "metadata": {},
   "outputs": [],
   "source": []
  },
  {
   "cell_type": "code",
   "execution_count": null,
   "id": "5ba02ba1",
   "metadata": {},
   "outputs": [],
   "source": []
  },
  {
   "cell_type": "code",
   "execution_count": null,
   "id": "7e300de9",
   "metadata": {},
   "outputs": [],
   "source": []
  },
  {
   "cell_type": "code",
   "execution_count": null,
   "id": "ec9b5989",
   "metadata": {},
   "outputs": [],
   "source": []
  },
  {
   "cell_type": "code",
   "execution_count": null,
   "id": "5e353dc8",
   "metadata": {},
   "outputs": [],
   "source": []
  },
  {
   "cell_type": "code",
   "execution_count": null,
   "id": "3a07f2d5",
   "metadata": {},
   "outputs": [],
   "source": []
  },
  {
   "cell_type": "code",
   "execution_count": null,
   "id": "e1b6cfff",
   "metadata": {},
   "outputs": [],
   "source": []
  },
  {
   "cell_type": "code",
   "execution_count": null,
   "id": "eed4b494",
   "metadata": {},
   "outputs": [],
   "source": []
  },
  {
   "cell_type": "code",
   "execution_count": null,
   "id": "02ad06d8",
   "metadata": {},
   "outputs": [],
   "source": []
  },
  {
   "cell_type": "code",
   "execution_count": null,
   "id": "3fb234bf",
   "metadata": {},
   "outputs": [],
   "source": []
  },
  {
   "cell_type": "code",
   "execution_count": null,
   "id": "eb96fd4c",
   "metadata": {},
   "outputs": [],
   "source": []
  },
  {
   "cell_type": "code",
   "execution_count": null,
   "id": "86a97062",
   "metadata": {},
   "outputs": [],
   "source": []
  },
  {
   "cell_type": "code",
   "execution_count": null,
   "id": "89f04f0c",
   "metadata": {},
   "outputs": [],
   "source": []
  },
  {
   "cell_type": "code",
   "execution_count": null,
   "id": "2587e1d6",
   "metadata": {},
   "outputs": [],
   "source": []
  },
  {
   "cell_type": "code",
   "execution_count": null,
   "id": "8c7e61b5",
   "metadata": {},
   "outputs": [],
   "source": []
  }
 ],
 "metadata": {
  "kernelspec": {
   "display_name": "Python 3 (ipykernel)",
   "language": "python",
   "name": "python3"
  },
  "language_info": {
   "codemirror_mode": {
    "name": "ipython",
    "version": 3
   },
   "file_extension": ".py",
   "mimetype": "text/x-python",
   "name": "python",
   "nbconvert_exporter": "python",
   "pygments_lexer": "ipython3",
   "version": "3.11.3"
  }
 },
 "nbformat": 4,
 "nbformat_minor": 5
}
